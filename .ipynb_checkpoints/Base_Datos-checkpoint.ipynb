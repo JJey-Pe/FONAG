{
 "cells": [
  {
   "cell_type": "markdown",
   "id": "bd6f9f7f-5a56-46e4-a27c-c64aafbbe575",
   "metadata": {},
   "source": [
    "# Base de datos"
   ]
  },
  {
   "cell_type": "code",
   "execution_count": 7,
   "id": "bda02b4f-8a21-44b0-9a8a-00a2f9c4b4e6",
   "metadata": {},
   "outputs": [],
   "source": [
    "# Librerías\n",
    "import numpy as np\n",
    "import pandas as pd\n",
    "import matplotlib.pyplot as plt"
   ]
  },
  {
   "cell_type": "markdown",
   "id": "7138431f-0ca3-463b-a80e-831b42f9fc29",
   "metadata": {},
   "source": [
    "## Cambio de formato antigüo"
   ]
  },
  {
   "cell_type": "code",
   "execution_count": null,
   "id": "e20e146b-03aa-410b-8168-81996872471e",
   "metadata": {},
   "outputs": [],
   "source": [
    "# Definir una lista de nombres de archivos y años\n",
    "archivos = [\n",
    "    ('NIVELES REPRESAS PAPALLACTA 2014.xlsx', 2014),\n",
    "    ('NIVELES REPRESAS PAPALLACTA 2015.xlsx', 2015),\n",
    "    ('NIVELES REPRESAS PAPALLACTA 2016_cor.xlsx', 2016),\n",
    "    ('NIVELES REPRESAS PAPALLACTA 2017.xlsx', 2017),\n",
    "    ('NIVELES REPRESAS PAPALLACTA 2018.xlsx', 2018),\n",
    "]"
   ]
  },
  {
   "cell_type": "code",
   "execution_count": null,
   "id": "2d5f4de8-7b6c-488b-a5c8-8e24a78e1c49",
   "metadata": {},
   "outputs": [],
   "source": [
    "# Función para leer archivo, procesar datos y retornar DataFrame\n",
    "def procesar_archivos(archivo):\n",
    "    datos = pd.read_excel(archivo, header=3, usecols=\"A:D\")\n",
    "    datos.columns = ['Fecha', 'SalveFacha(PAPLT801_ACH1_CT)', 'Sucus(PAPLT813_ACH2_CT)',\n",
    "                     'Mogotes(PAPLT808_ACH1_CT)']\n",
    "    datos['Fecha'] = pd.to_datetime(datos['Fecha'], errors='coerce')\n",
    "    return datos\n",
    "\n",
    "# Leer cada archivo Excel, procesar y almacenar en un diccionario por año\n",
    "dataframes_por_y = {yyyy: procesar_archivos(archivo) for archivo, yyyy in archivos}\n",
    "\n",
    "# Función para filtrar datos por mes y año\n",
    "def filtro_m_y(dataframe):\n",
    "    return {\n",
    "        (year, month): dataframe[(dataframe['Fecha'].dt.year == year) &\n",
    "        (dataframe['Fecha'].dt.month == month)]\n",
    "        for year in dataframe['Fecha'].dt.year.unique()\n",
    "        for month in range(1, 13)\n",
    "    }\n",
    "\n",
    "# Obtener los DataFrames filtrados por cada mes y año para cada año\n",
    "dataframes_por_m_y = {yyyy: filtro_m_y(df) for yyyy, df in dataframes_por_y.items()}"
   ]
  },
  {
   "cell_type": "code",
   "execution_count": null,
   "id": "14111fb0-d8d1-492b-9be0-15803f0145d1",
   "metadata": {},
   "outputs": [],
   "source": [
    "# Ejemplo: Mostrar las primeras filas del DataFrame filtrado para enero de cada año\n",
    "for yyyy in dataframes_por_m_y:\n",
    "    print(f\"Datos de Mayo {yyyy}:\")\n",
    "    print(dataframes_por_m_y[yyyy][(yyyy, 5)].head())"
   ]
  }
 ],
 "metadata": {
  "kernelspec": {
   "display_name": "Python 3 (ipykernel)",
   "language": "python",
   "name": "python3"
  },
  "language_info": {
   "codemirror_mode": {
    "name": "ipython",
    "version": 3
   },
   "file_extension": ".py",
   "mimetype": "text/x-python",
   "name": "python",
   "nbconvert_exporter": "python",
   "pygments_lexer": "ipython3",
   "version": "3.12.4"
  }
 },
 "nbformat": 4,
 "nbformat_minor": 5
}
