{
 "cells": [
  {
   "cell_type": "markdown",
   "id": "f4b93add-60f2-4e38-b251-d1911b67ad3a",
   "metadata": {},
   "source": [
    "# Lectrura de base de datos"
   ]
  },
  {
   "cell_type": "markdown",
   "id": "46293c53-e12d-445d-9b5f-1dbc993e586a",
   "metadata": {},
   "source": [
    "## Librerías utilizadas"
   ]
  },
  {
   "cell_type": "code",
   "execution_count": 25,
   "id": "53240c5f-ae44-4237-af6e-aa653f3a0ada",
   "metadata": {},
   "outputs": [],
   "source": [
    "import tkinter as tk\n",
    "from tkinter import filedialog\n",
    "import pandas as pd\n",
    "import matplotlib.pyplot as plt\n",
    "import numpy as np"
   ]
  },
  {
   "cell_type": "markdown",
   "id": "2fefba99-2693-477e-9924-24ec55f3953b",
   "metadata": {},
   "source": [
    "## Formato antigüo"
   ]
  },
  {
   "cell_type": "markdown",
   "id": "aa33059f-cb8d-4460-9c73-39aecd9f6507",
   "metadata": {},
   "source": [
    "### Petición de archivos y almacenamiento de los mismos en dataframe \"datos\""
   ]
  },
  {
   "cell_type": "code",
   "execution_count": 29,
   "id": "82f3d017-95ae-4f0a-95b4-d1788802848f",
   "metadata": {},
   "outputs": [
    {
     "name": "stdout",
     "output_type": "stream",
     "text": [
      "Archivos seleccionados:\n",
      "C:/Users/juanj/OneDrive/Documentos/FONAG/2014-1018/NIVELES REPRESAS PAPALLACTA 2014.csv\n",
      "C:/Users/juanj/OneDrive/Documentos/FONAG/2014-1018/NIVELES REPRESAS PAPALLACTA 2015.csv\n",
      "C:/Users/juanj/OneDrive/Documentos/FONAG/2014-1018/NIVELES REPRESAS PAPALLACTA 2016_cor.csv\n",
      "C:/Users/juanj/OneDrive/Documentos/FONAG/2014-1018/NIVELES REPRESAS PAPALLACTA 2017.csv\n",
      "C:/Users/juanj/OneDrive/Documentos/FONAG/2014-1018/NIVELES REPRESAS PAPALLACTA 2018.csv\n"
     ]
    }
   ],
   "source": [
    "# Crear una ventana raíz\n",
    "root = tk.Tk()\n",
    "root.withdraw()  # Ocultar la ventana principal\n",
    "\n",
    "# Abrir el cuadro de diálogo para seleccionar múltiples archivos CSV\n",
    "file_paths = filedialog.askopenfilenames(\n",
    "    filetypes=[(\"CSV files\", \"*.csv\")],\n",
    "    title=\"Seleccionar archivos CSV\"\n",
    ")\n",
    "\n",
    "# Mostrar las rutas de los archivos seleccionados\n",
    "print(\"Archivos seleccionados:\")\n",
    "# Cerrar la ventana raíz\n",
    "root.destroy()\n",
    "data_frames = []  # Lista para almacenar los DataFrames de cada archivo\n",
    "\n",
    "for file_path in file_paths:\n",
    "    print(file_path)\n",
    "    # Leer solo las primeras 4 columnas y a partir de la cuarta fila del archivo CSV usando pandas\n",
    "    df = pd.read_csv(file_path, usecols=range(4), skiprows=3)\n",
    "    # Definir los encabezados de las columnas\n",
    "    df.columns = [\"Fecha\", \"SalveFacha(PAPLT801_ACH1_CT)\", \"Sucus(PAPLT813_ACH2_CT)\", \"Mogotes(PAPLT808_ACH1_CT)\"]\n",
    "    \n",
    "    data_frames.append(df)  # Agregar el DataFrame a la lista\n",
    "\n",
    "datos = pd.concat(data_frames, ignore_index=True)"
   ]
  },
  {
   "cell_type": "markdown",
   "id": "244c4a3a-65cd-4e7c-b009-4be969710e34",
   "metadata": {},
   "source": [
    "## Formato nuevo"
   ]
  },
  {
   "cell_type": "markdown",
   "id": "f4f364b3-caf4-4154-b990-c9c8918f7ac4",
   "metadata": {},
   "source": [
    "### Peticioón de archivos y almacenamiento ordenado de los mismoes esn variable \"DatosOrdenados\""
   ]
  },
  {
   "cell_type": "code",
   "execution_count": 33,
   "id": "79a99402-5363-4cf5-b3ab-fab3dd35bde9",
   "metadata": {},
   "outputs": [
    {
     "name": "stdout",
     "output_type": "stream",
     "text": [
      "Archivo seleccionado: C:/Users/juanj/OneDrive/Documentos/FONAG/2019-2023/Historicos Niveles Embalses SPI 2019-2023.xlsx\n"
     ]
    }
   ],
   "source": [
    "# Crear una ventana raíz\n",
    "root = tk.Tk()\n",
    "root.withdraw()  # Ocultar la ventana principal\n",
    "\n",
    "# Abrir un cuadro de diálogo para seleccionar un archivo Excel\n",
    "file_path = filedialog.askopenfilename(\n",
    "    title=\"Selecciona un archivo Excel\",\n",
    "    filetypes=((\"Archivos de Excel\", \"*.xlsx *.xls\"), (\"Todos los archivos\", \"*.*\"))\n",
    ")\n",
    "\n",
    "# Mostrar la ruta del archivo seleccionado\n",
    "print(f\"Archivo seleccionado: {file_path}\")\n",
    "\n",
    "# Cerrar la ventana raíz\n",
    "root.destroy()\n",
    "\n",
    "# Leer la primera hoja del archivo Excel, omitir las primeras 3 filas y seleccionar las columnas 3 en adelante\n",
    "df = pd.read_excel(file_path, sheet_name=0, skiprows=3)\n",
    "\n",
    "df = df.iloc[:,3:]\n",
    "\n",
    "columns_to_read = [0, 2, 4, 6, 8]\n",
    "df_list = []\n",
    "\n",
    "for col in columns_to_read:\n",
    "    temp_df = df.iloc[:,col]\n",
    "    df_list.append(temp_df)\n",
    "\n",
    "# Concatenar los DataFrames\n",
    "SalveFacha = pd.concat(df_list, ignore_index=True)\n",
    "\n",
    "df = pd.read_excel(file_path, sheet_name=1, skiprows=3)\n",
    "\n",
    "df = df.iloc[:,3:]\n",
    "\n",
    "columns_to_read = [0, 2, 4, 6, 8]\n",
    "df_list = []\n",
    "\n",
    "for col in columns_to_read:\n",
    "    temp_df = df.iloc[:,col]\n",
    "    df_list.append(temp_df)\n",
    "\n",
    "# Concatenar los DataFrames\n",
    "Sucus = pd.concat(df_list, ignore_index=True)\n",
    "\n",
    "df = pd.read_excel(file_path, sheet_name=1, skiprows=3)\n",
    "\n",
    "df = df.iloc[:,3:]\n",
    "\n",
    "columns_to_read = [0, 2, 4, 6, 8]\n",
    "df_list = []\n",
    "\n",
    "for col in columns_to_read:\n",
    "    temp_df = df.iloc[:,col]\n",
    "    df_list.append(temp_df)\n",
    "\n",
    "# Concatenar los DataFrames\n",
    "Mogotes = pd.concat(df_list, ignore_index=True)\n",
    "\n",
    "fecha_inicio = '2019-01-01'\n",
    "num_fechas = len(SalveFacha)\n",
    "fechas = pd.date_range(start=fecha_inicio, periods=num_fechas, freq='D')\n",
    "\n",
    "# Crear el DataFrame\n",
    "DatosOrdenados = pd.DataFrame({\n",
    "    'Fecha': fechas,\n",
    "    'SalveFacha(PAPLT801_ACH1_CT)': SalveFacha,\n",
    "    'Sucus(PAPLT813_ACH2_CT)': Sucus,\n",
    "    'Mogotes(PAPLT808_ACH1_CT)': Mogotes\n",
    "})"
   ]
  },
  {
   "cell_type": "markdown",
   "id": "556dd66a-83da-48b2-a6ce-64e8b393ab68",
   "metadata": {},
   "source": [
    "## Unión de información de ambos formatos en variable \"Total\""
   ]
  },
  {
   "cell_type": "code",
   "execution_count": 35,
   "id": "c2174407-23ab-4005-bd0d-d514908ba6d4",
   "metadata": {},
   "outputs": [],
   "source": [
    "Total = pd.concat([datos, DatosOrdenados], ignore_index=True)\n",
    "Total['Fecha'] = pd.to_datetime(Total['Fecha'], format='%m/%d/%Y %H:%M')\n",
    "Total.iloc[:,1:] = Total.iloc[:,1:].apply(pd.to_numeric, errors='coerce')\n",
    "\n",
    "# Crear df_indicator con valores de 0 donde hay valores nulos\n",
    "df_indicator = Total.iloc[:, 1:].notnull().astype(int)\n",
    "df_indicator = df_indicator.replace(0, np.nan)\n",
    "\n",
    "# Insertar la columna de fechas en la primera posición del DataFrame indicador\n",
    "df_indicator.insert(0, 'Fecha', Total['Fecha'])"
   ]
  },
  {
   "cell_type": "markdown",
   "id": "6f74ccc0-f5da-4a64-914d-473d70273aa7",
   "metadata": {},
   "source": [
    "## Gráfica de distribución temporal de datos"
   ]
  },
  {
   "cell_type": "code",
   "execution_count": 37,
   "id": "a84d82db-724d-4b63-ac98-24d715ab0e76",
   "metadata": {},
   "outputs": [
    {
     "data": {
      "text/plain": [
       "<matplotlib.legend.Legend at 0x1ee5905f440>"
      ]
     },
     "execution_count": 37,
     "metadata": {},
     "output_type": "execute_result"
    },
    {
     "data": {
      "image/png": "[encoded data removed]",
      "text/plain": [
       "<Figure size 640x480 with 1 Axes>"
      ]
     },
     "metadata": {},
     "output_type": "display_data"
    }
   ],
   "source": [
    "plt.plot(df_indicator.iloc[:, 0], df_indicator.iloc[:, 1], label=\"SalveFacha\", linewidth = 5)\n",
    "plt.plot(df_indicator.iloc[:, 0], 2*df_indicator.iloc[:, 2], label=\"Sucus\", linewidth = 5)\n",
    "plt.plot(df_indicator.iloc[:, 0], 3*df_indicator.iloc[:, 3], label=\"Mogotes\", linewidth = 5)\n",
    "plt.legend(loc='center left', bbox_to_anchor=(1, 0.5))"
   ]
  },
  {
   "cell_type": "code",
   "execution_count": 39,
   "id": "ea3e4b08-98b8-4212-9f82-632ed0e1c309",
   "metadata": {},
   "outputs": [
    {
     "data": {
      "text/plain": [
       "<matplotlib.legend.Legend at 0x1ee589b98b0>"
      ]
     },
     "execution_count": 39,
     "metadata": {},
     "output_type": "execute_result"
    },
    {
     "data": {
      "image/png": "[encoded data removed]",
      "text/plain": [
       "<Figure size 640x480 with 1 Axes>"
      ]
     },
     "metadata": {},
     "output_type": "display_data"
    }
   ],
   "source": [
    "plt.plot(df_indicator.iloc[range(1,100), 0], df_indicator.iloc[range(1,100), 1], label=\"SalveFacha\", linewidth = 5)\n",
    "plt.plot(df_indicator.iloc[range(1,100), 0], 2*df_indicator.iloc[range(1,100), 2], label=\"Sucus\", linewidth = 5)\n",
    "plt.plot(df_indicator.iloc[range(1,100), 0], 3*df_indicator.iloc[range(1,100), 3], label=\"Mogotes\", linewidth = 5)\n",
    "plt.legend(loc='center left', bbox_to_anchor=(1, 0.5))\n"
   ]
  }
 ],
 "metadata": {
  "kernelspec": {
   "display_name": "Python 3 (ipykernel)",
   "language": "python",
   "name": "python3"
  },
  "language_info": {
   "codemirror_mode": {
    "name": "ipython",
    "version": 3
   },
   "file_extension": ".py",
   "mimetype": "text/x-python",
   "name": "python",
   "nbconvert_exporter": "python",
   "pygments_lexer": "ipython3",
   "version": "3.12.4"
  }
 },
 "nbformat": 4,
 "nbformat_minor": 5
}
