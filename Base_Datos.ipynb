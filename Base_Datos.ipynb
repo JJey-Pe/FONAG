{
 "cells": [
  {
   "cell_type": "markdown",
   "id": "bd6f9f7f-5a56-46e4-a27c-c64aafbbe575",
   "metadata": {},
   "source": [
    "# Base de datos"
   ]
  },
  {
   "cell_type": "code",
   "execution_count": 9,
   "id": "bda02b4f-8a21-44b0-9a8a-00a2f9c4b4e6",
   "metadata": {},
   "outputs": [],
   "source": [
    "# Librerías\n",
    "import numpy as np\n",
    "import pandas as pd\n",
    "import matplotlib.pyplot as plt"
   ]
  },
  {
   "cell_type": "markdown",
   "id": "7138431f-0ca3-463b-a80e-831b42f9fc29",
   "metadata": {},
   "source": [
    "## Cambio de formato antigüo"
   ]
  },
  {
   "cell_type": "code",
   "execution_count": 11,
   "id": "e20e146b-03aa-410b-8168-81996872471e",
   "metadata": {},
   "outputs": [],
   "source": [
    "# Definir una lista con los nombres de los archivos y sus años\n",
    "archivos = [\n",
    "    ('NIVELES REPRESAS PAPALLACTA 2014.xlsx', 2014),\n",
    "    ('NIVELES REPRESAS PAPALLACTA 2015.xlsx', 2015),\n",
    "    ('NIVELES REPRESAS PAPALLACTA 2016_cor.xlsx', 2016),\n",
    "    ('NIVELES REPRESAS PAPALLACTA 2017.xlsx', 2017),\n",
    "    ('NIVELES REPRESAS PAPALLACTA 2018.xlsx', 2018),\n",
    "]"
   ]
  },
  {
   "cell_type": "code",
   "execution_count": 13,
   "id": "2d5f4de8-7b6c-488b-a5c8-8e24a78e1c49",
   "metadata": {},
   "outputs": [],
   "source": [
    "# Función para leer archivo, procesar datos y retornar DataFrame\n",
    "def procesar_archivos(archivo):\n",
    "    datos = pd.read_excel(archivo, header=3, usecols=\"A:D\")\n",
    "    datos.columns = ['Fecha', 'SalveFacha(PAPLT801_ACH1_CT)', 'Sucus(PAPLT813_ACH2_CT)',\n",
    "                     'Mogotes(PAPLT808_ACH1_CT)']\n",
    "    datos['Fecha'] = pd.to_datetime(datos['Fecha'], errors='coerce')\n",
    "    return datos\n",
    "\n",
    "# Leer cada archivo Excel, procesar y almacenar en un diccionario por año\n",
    "dataframes_por_y = {yyyy: procesar_archivos(archivo) for archivo, yyyy in archivos}\n",
    "\n",
    "# Función para filtrar datos por mes y año para un año específico\n",
    "def filtro_m_y_especifico(dataframe, year):\n",
    "    return {\n",
    "        (year, month): dataframe[(dataframe['Fecha'].dt.year == year) & (dataframe['Fecha'].dt.month == month)]\n",
    "        for month in range(1, 13)\n",
    "    }\n",
    "\n",
    "# Obtener los DataFrames filtrados por cada mes y año para cada año específico\n",
    "dataframes_por_m_y = {yyyy: filtro_m_y_especifico(df, yyyy) for yyyy, df in dataframes_por_y.items()}\n"
   ]
  },
  {
   "cell_type": "code",
   "execution_count": 15,
   "id": "14111fb0-d8d1-492b-9be0-15803f0145d1",
   "metadata": {},
   "outputs": [
    {
     "name": "stdout",
     "output_type": "stream",
     "text": [
      "Datos de Mayo 2014:\n",
      "       Fecha SalveFacha(PAPLT801_ACH1_CT) Sucus(PAPLT813_ACH2_CT)  \\\n",
      "0 2014-05-30                  3890.699023             3890.117617   \n",
      "1 2014-05-31                  3890.699023             3890.148019   \n",
      "\n",
      "  Mogotes(PAPLT808_ACH1_CT)  \n",
      "0               3985.199951  \n",
      "1               3985.199951  \n",
      "Datos de Mayo 2015:\n",
      "         Fecha SalveFacha(PAPLT801_ACH1_CT) Sucus(PAPLT813_ACH2_CT)  \\\n",
      "120 2015-05-01                  3890.865079             3889.234939   \n",
      "121 2015-05-02                  3890.923687             3889.234939   \n",
      "122 2015-05-03                  3890.923687             3889.337293   \n",
      "123 2015-05-04                  3890.923687             3889.337293   \n",
      "124 2015-05-05                  3890.904151             3889.337293   \n",
      "\n",
      "    Mogotes(PAPLT808_ACH1_CT)  \n",
      "120                3983.67805  \n",
      "121               3983.758621  \n",
      "122               3983.812335  \n",
      "123               3983.883954  \n",
      "124               3983.913795  \n",
      "Datos de Mayo 2016:\n",
      "         Fecha SalveFacha(PAPLT801_ACH1_CT)  Sucus(PAPLT813_ACH2_CT)  \\\n",
      "121 2016-05-01                     3.889.47                  3889.40   \n",
      "122 2016-05-02                      3889.43                  3889.25   \n",
      "123 2016-05-03                      3889.42                  3889.17   \n",
      "124 2016-05-04                      3889.48                  3889.18   \n",
      "125 2016-05-05                      3889.45                  3889.08   \n",
      "\n",
      "     Mogotes(PAPLT808_ACH1_CT)  \n",
      "121                    3984.25  \n",
      "122                    3984.21  \n",
      "123                    3984.15  \n",
      "124                    3984.14  \n",
      "125                    3984.12  \n",
      "Datos de Mayo 2017:\n",
      "         Fecha SalveFacha(PAPLT801_ACH1_CT) Sucus(PAPLT813_ACH2_CT)  \\\n",
      "120 2017-05-01                  3890.913919             3888.424213   \n",
      "121 2017-05-02                  3890.904151             3888.434347   \n",
      "122 2017-05-03                  3890.855311             3888.427253   \n",
      "123 2017-05-04                  3890.865079              3888.42016   \n",
      "124 2017-05-05                  3890.982295             3888.509339   \n",
      "\n",
      "    Mogotes(PAPLT808_ACH1_CT)  \n",
      "120               3982.708211  \n",
      "121               3982.726116  \n",
      "122               3982.761925  \n",
      "123               3982.782814  \n",
      "124               3982.991702  \n",
      "Datos de Mayo 2018:\n",
      "         Fecha SalveFacha(PAPLT801_ACH1_CT) Sucus(PAPLT813_ACH2_CT)  \\\n",
      "120 2018-05-01                  3885.551282             3887.894201   \n",
      "121 2018-05-02                  3885.531746             3887.921563   \n",
      "122 2018-05-03                  3885.492674             3887.941831   \n",
      "123 2018-05-04                  3885.492674             3887.948925   \n",
      "124 2018-05-05                  3885.443834              3887.92055   \n",
      "\n",
      "    Mogotes(PAPLT808_ACH1_CT)  \n",
      "120                 3983.2364  \n",
      "121               3983.233416  \n",
      "122               3983.200591  \n",
      "123               3983.173734  \n",
      "124               3983.140908  \n"
     ]
    }
   ],
   "source": [
    "# Ejemplo: Mostrar las primeras filas del DataFrame filtrado para enero de cada año\n",
    "for yyyy in dataframes_por_m_y:\n",
    "    print(f\"Datos de Mayo {yyyy}:\")\n",
    "    print(dataframes_por_m_y[yyyy][(yyyy, 5)].head())"
   ]
  },
  {
   "cell_type": "code",
   "execution_count": null,
   "id": "5785532f-5f39-452c-b422-4793304159be",
   "metadata": {
    "editable": true,
    "slideshow": {
     "slide_type": ""
    },
    "tags": []
   },
   "outputs": [],
   "source": []
  }
 ],
 "metadata": {
  "kernelspec": {
   "display_name": "Python 3 (ipykernel)",
   "language": "python",
   "name": "python3"
  },
  "language_info": {
   "codemirror_mode": {
    "name": "ipython",
    "version": 3
   },
   "file_extension": ".py",
   "mimetype": "text/x-python",
   "name": "python",
   "nbconvert_exporter": "python",
   "pygments_lexer": "ipython3",
   "version": "3.12.4"
  }
 },
 "nbformat": 4,
 "nbformat_minor": 5
}
