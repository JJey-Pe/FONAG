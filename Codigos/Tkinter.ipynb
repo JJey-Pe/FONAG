{
 "cells": [
  {
   "cell_type": "code",
   "execution_count": 40,
   "id": "b29bc88d-262d-43d4-9aad-32d16c64bee8",
   "metadata": {},
   "outputs": [],
   "source": [
    "import tkinter as tk\n",
    "from tkinter import filedialog\n",
    "import pandas as pd\n",
    "import matplotlib.pyplot as plt\n",
    "import numpy as np"
   ]
  },
  {
   "cell_type": "code",
   "execution_count": 42,
   "id": "0af0d19b-6dd9-40f5-b669-a215eacec790",
   "metadata": {},
   "outputs": [
    {
     "name": "stdout",
     "output_type": "stream",
     "text": [
      "Archivos seleccionados:\n",
      "C:/Users/juanj/OneDrive/Documentos/PruebasSpyder/NIVELES REPRESAS PAPALLACTA 2014.csv\n",
      "C:/Users/juanj/OneDrive/Documentos/PruebasSpyder/NIVELES REPRESAS PAPALLACTA 2015.csv\n",
      "C:/Users/juanj/OneDrive/Documentos/PruebasSpyder/NIVELES REPRESAS PAPALLACTA 2016_cor.csv\n",
      "C:/Users/juanj/OneDrive/Documentos/PruebasSpyder/NIVELES REPRESAS PAPALLACTA 2017.csv\n",
      "C:/Users/juanj/OneDrive/Documentos/PruebasSpyder/NIVELES REPRESAS PAPALLACTA 2018.csv\n"
     ]
    }
   ],
   "source": [
    "# Abrir el cuadro de diálogo para seleccionar múltiples archivos CSV\n",
    "file_paths = filedialog.askopenfilenames(\n",
    "    filetypes=[(\"CSV files\", \"*.csv\")],\n",
    "    title=\"Seleccionar archivos CSV\"\n",
    ")\n",
    "\n",
    "# Mostrar las rutas de los archivos seleccionados\n",
    "print(\"Archivos seleccionados:\")\n",
    "data_frames = []  # Lista para almacenar los DataFrames de cada archivo\n",
    "\n",
    "for file_path in file_paths:\n",
    "    print(file_path)\n",
    "    # Leer solo las primeras 4 columnas y a partir de la cuarta fila del archivo CSV usando pandas\n",
    "    df = pd.read_csv(file_path, usecols=range(4), skiprows=3)\n",
    "    # Definir los encabezados de las columnas\n",
    "    df.columns = [\"Fecha\", \"SalveFacha(PAPLT801_ACH1_CT)\", \"Sucus(PAPLT813_ACH2_CT)\", \"Mogotes(PAPLT808_ACH1_CT)\"]\n",
    "    \n",
    "    data_frames.append(df)  # Agregar el DataFrame a la lista\n",
    "\n",
    "datos = pd.concat(data_frames, ignore_index=True)\n",
    "\n",
    "datos['Fecha'] = pd.to_datetime(datos['Fecha'])\n",
    "columnas_float = ['SalveFacha(PAPLT801_ACH1_CT)', 'Sucus(PAPLT813_ACH2_CT)', 'Mogotes(PAPLT808_ACH1_CT)']\n",
    "datos[columnas_float] = datos[columnas_float].apply(pd.to_numeric, errors='coerce')"
   ]
  },
  {
   "cell_type": "code",
   "execution_count": 44,
   "id": "ed8cd434-8263-42dd-be2f-dfe2c0d09f9a",
   "metadata": {},
   "outputs": [
    {
     "data": {
      "text/plain": [
       "[<matplotlib.lines.Line2D at 0x21b45893d10>]"
      ]
     },
     "execution_count": 44,
     "metadata": {},
     "output_type": "execute_result"
    },
    {
     "data": {
      "image/png": "[encoded data removed]",
      "text/plain": [
       "<Figure size 640x480 with 1 Axes>"
      ]
     },
     "metadata": {},
     "output_type": "display_data"
    }
   ],
   "source": [
    "cols_to_check = datos.columns[1:]  # Ignora la primera columna\n",
    "\n",
    "df_indicator = datos[cols_to_check].notnull().astype(int)\n",
    "df_replaced = df_indicator.replace(0, np.nan)\n",
    "\n",
    "plt.plot(datos.iloc[:, 0], df_replaced.iloc[:, 0])\n",
    "plt.plot(datos.iloc[:, 0], 2*df_replaced.iloc[:, 1])\n",
    "plt.plot(datos.iloc[:, 0], 3*df_replaced.iloc[:, 2])"
   ]
  },
  {
   "cell_type": "code",
   "execution_count": null,
   "id": "703fc32a-cebf-4feb-b613-8459ea32c1e4",
   "metadata": {},
   "outputs": [],
   "source": []
  }
 ],
 "metadata": {
  "kernelspec": {
   "display_name": "Python 3 (ipykernel)",
   "language": "python",
   "name": "python3"
  },
  "language_info": {
   "codemirror_mode": {
    "name": "ipython",
    "version": 3
   },
   "file_extension": ".py",
   "mimetype": "text/x-python",
   "name": "python",
   "nbconvert_exporter": "python",
   "pygments_lexer": "ipython3",
   "version": "3.12.4"
  }
 },
 "nbformat": 4,
 "nbformat_minor": 5
}
